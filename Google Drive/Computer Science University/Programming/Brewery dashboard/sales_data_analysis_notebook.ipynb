{
 "cells": [
  {
   "cell_type": "markdown",
   "metadata": {},
   "source": [
    "<b>Import the necessary modules to analyse the data</b>"
   ]
  },
  {
   "cell_type": "code",
   "execution_count": 57,
   "metadata": {
    "collapsed": false,
    "inputHidden": false,
    "outputHidden": false
   },
   "outputs": [],
   "source": [
    "import pandas\n",
    "from datetime import datetime\n",
    "import matplotlib.pyplot as plt\n",
    "import numpy"
   ]
  },
  {
   "cell_type": "markdown",
   "metadata": {},
   "source": [
    "<b>Read in the data from a CSV file and modify the columns for easier data analysis.</b>\n",
    "<p>This includes getting the date into integers for day, month and year</p>"
   ]
  },
  {
   "cell_type": "code",
   "execution_count": 58,
   "metadata": {},
   "outputs": [],
   "source": [
    "def get_month(full_date):\n",
    "    full_date_str = str(full_date)\n",
    "    full_date_datetime = datetime.strptime(full_date_str, \"%d-%b-%y\")\n",
    "    month_int = datetime.strftime(full_date_datetime, \"%m\")\n",
    "    return month_int\n",
    "\n",
    "sales_data = pandas.read_csv('Barnabys_sales_fabriacted_data.csv', usecols=['Customer', 'Date Required', 'Recipe', 'Quantity ordered'])\n",
    "sales_data[['Day', 'Month', 'Year']] = sales_data['Date Required'].str.split('-', expand=True)\n",
    "sales_data[['Month']]  = [get_month(date) for date in sales_data['Date Required']]\n",
    "sales_data[['Year']] = [int(year) + 2000 for year in sales_data['Year']]\n"
   ]
  },
  {
   "cell_type": "markdown",
   "metadata": {},
   "source": [
    "<b>This gives an initial overview of the data headings and quantity</b>"
   ]
  },
  {
   "cell_type": "code",
   "execution_count": 59,
   "metadata": {
    "collapsed": false,
    "inputHidden": false,
    "outputHidden": false
   },
   "outputs": [
    {
     "name": "stdout",
     "output_type": "stream",
     "text": [
      "(orders, headings) = (662, 7)\n"
     ]
    },
    {
     "data": {
      "text/html": [
       "<div>\n",
       "<style scoped>\n",
       "    .dataframe tbody tr th:only-of-type {\n",
       "        vertical-align: middle;\n",
       "    }\n",
       "\n",
       "    .dataframe tbody tr th {\n",
       "        vertical-align: top;\n",
       "    }\n",
       "\n",
       "    .dataframe thead th {\n",
       "        text-align: right;\n",
       "    }\n",
       "</style>\n",
       "<table border=\"1\" class=\"dataframe\">\n",
       "  <thead>\n",
       "    <tr style=\"text-align: right;\">\n",
       "      <th></th>\n",
       "      <th>Customer</th>\n",
       "      <th>Date Required</th>\n",
       "      <th>Recipe</th>\n",
       "      <th>Quantity ordered</th>\n",
       "      <th>Day</th>\n",
       "      <th>Month</th>\n",
       "      <th>Year</th>\n",
       "    </tr>\n",
       "  </thead>\n",
       "  <tbody>\n",
       "    <tr>\n",
       "      <th>0</th>\n",
       "      <td>Jaded Palates</td>\n",
       "      <td>02-Nov-18</td>\n",
       "      <td>Organic Red Helles</td>\n",
       "      <td>12</td>\n",
       "      <td>02</td>\n",
       "      <td>11</td>\n",
       "      <td>2018</td>\n",
       "    </tr>\n",
       "    <tr>\n",
       "      <th>1</th>\n",
       "      <td>Jaded Palates</td>\n",
       "      <td>02-Nov-18</td>\n",
       "      <td>Organic Red Helles</td>\n",
       "      <td>9</td>\n",
       "      <td>02</td>\n",
       "      <td>11</td>\n",
       "      <td>2018</td>\n",
       "    </tr>\n",
       "    <tr>\n",
       "      <th>2</th>\n",
       "      <td>Broadhempston Community Shop</td>\n",
       "      <td>09-Nov-18</td>\n",
       "      <td>Organic Red Helles</td>\n",
       "      <td>53</td>\n",
       "      <td>09</td>\n",
       "      <td>11</td>\n",
       "      <td>2018</td>\n",
       "    </tr>\n",
       "    <tr>\n",
       "      <th>3</th>\n",
       "      <td>Ben's Farm Shop - Staverton</td>\n",
       "      <td>14-Nov-18</td>\n",
       "      <td>Organic Red Helles</td>\n",
       "      <td>7</td>\n",
       "      <td>14</td>\n",
       "      <td>11</td>\n",
       "      <td>2018</td>\n",
       "    </tr>\n",
       "    <tr>\n",
       "      <th>4</th>\n",
       "      <td>The Kings Arms</td>\n",
       "      <td>14-Nov-18</td>\n",
       "      <td>Organic Red Helles</td>\n",
       "      <td>12</td>\n",
       "      <td>14</td>\n",
       "      <td>11</td>\n",
       "      <td>2018</td>\n",
       "    </tr>\n",
       "  </tbody>\n",
       "</table>\n",
       "</div>"
      ],
      "text/plain": [
       "                       Customer Date Required  ...  Month  Year\n",
       "0                 Jaded Palates     02-Nov-18  ...     11  2018\n",
       "1                 Jaded Palates     02-Nov-18  ...     11  2018\n",
       "2  Broadhempston Community Shop     09-Nov-18  ...     11  2018\n",
       "3   Ben's Farm Shop - Staverton     14-Nov-18  ...     11  2018\n",
       "4                The Kings Arms     14-Nov-18  ...     11  2018\n",
       "\n",
       "[5 rows x 7 columns]"
      ]
     },
     "execution_count": 59,
     "metadata": {},
     "output_type": "execute_result"
    }
   ],
   "source": [
    "#this gives an overview of the data:\n",
    "print('(orders, headings) =', sales_data.shape)\n",
    "sales_data.head()"
   ]
  },
  {
   "cell_type": "code",
   "execution_count": 60,
   "metadata": {
    "collapsed": false,
    "inputHidden": false,
    "outputHidden": false
   },
   "outputs": [
    {
     "data": {
      "text/html": [
       "<div>\n",
       "<style scoped>\n",
       "    .dataframe tbody tr th:only-of-type {\n",
       "        vertical-align: middle;\n",
       "    }\n",
       "\n",
       "    .dataframe tbody tr th {\n",
       "        vertical-align: top;\n",
       "    }\n",
       "\n",
       "    .dataframe thead th {\n",
       "        text-align: right;\n",
       "    }\n",
       "</style>\n",
       "<table border=\"1\" class=\"dataframe\">\n",
       "  <thead>\n",
       "    <tr style=\"text-align: right;\">\n",
       "      <th></th>\n",
       "      <th>Quantity ordered</th>\n",
       "      <th>Year</th>\n",
       "    </tr>\n",
       "  </thead>\n",
       "  <tbody>\n",
       "    <tr>\n",
       "      <th>count</th>\n",
       "      <td>662.000000</td>\n",
       "      <td>662.000000</td>\n",
       "    </tr>\n",
       "    <tr>\n",
       "      <th>mean</th>\n",
       "      <td>33.537764</td>\n",
       "      <td>2018.864048</td>\n",
       "    </tr>\n",
       "    <tr>\n",
       "      <th>std</th>\n",
       "      <td>37.682497</td>\n",
       "      <td>0.342996</td>\n",
       "    </tr>\n",
       "    <tr>\n",
       "      <th>min</th>\n",
       "      <td>7.000000</td>\n",
       "      <td>2018.000000</td>\n",
       "    </tr>\n",
       "    <tr>\n",
       "      <th>25%</th>\n",
       "      <td>15.000000</td>\n",
       "      <td>2019.000000</td>\n",
       "    </tr>\n",
       "    <tr>\n",
       "      <th>50%</th>\n",
       "      <td>24.000000</td>\n",
       "      <td>2019.000000</td>\n",
       "    </tr>\n",
       "    <tr>\n",
       "      <th>75%</th>\n",
       "      <td>33.000000</td>\n",
       "      <td>2019.000000</td>\n",
       "    </tr>\n",
       "    <tr>\n",
       "      <th>max</th>\n",
       "      <td>529.000000</td>\n",
       "      <td>2019.000000</td>\n",
       "    </tr>\n",
       "  </tbody>\n",
       "</table>\n",
       "</div>"
      ],
      "text/plain": [
       "       Quantity ordered         Year\n",
       "count        662.000000   662.000000\n",
       "mean          33.537764  2018.864048\n",
       "std           37.682497     0.342996\n",
       "min            7.000000  2018.000000\n",
       "25%           15.000000  2019.000000\n",
       "50%           24.000000  2019.000000\n",
       "75%           33.000000  2019.000000\n",
       "max          529.000000  2019.000000"
      ]
     },
     "execution_count": 60,
     "metadata": {},
     "output_type": "execute_result"
    }
   ],
   "source": [
    "sales_data.describe()"
   ]
  },
  {
   "cell_type": "markdown",
   "metadata": {},
   "source": [
    "<h1>Data visualisation</h1>"
   ]
  },
  {
   "cell_type": "code",
   "execution_count": 64,
   "metadata": {
    "collapsed": false,
    "inputHidden": false,
    "outputHidden": false
   },
   "outputs": [
    {
     "name": "stdout",
     "output_type": "stream",
     "text": [
      "Quantity per order frequency graph\n"
     ]
    },
    {
     "data": {
      "image/png": "[encoded data removed]",
      "text/plain": [
       "<Figure size 432x288 with 1 Axes>"
      ]
     },
     "metadata": {
      "needs_background": "light"
     },
     "output_type": "display_data"
    },
    {
     "name": "stdout",
     "output_type": "stream",
     "text": [
      "Distribution of sales of  ('Organic Red Helles', 'Organic Pilsner', 'Organic Dunkel')\n"
     ]
    },
    {
     "data": {
      "image/png": "[encoded data removed]",
      "text/plain": [
       "<Figure size 432x288 with 1 Axes>"
      ]
     },
     "metadata": {},
     "output_type": "display_data"
    }
   ],
   "source": [
    "#this is to visualise the data set\n",
    "\n",
    "#histogram\n",
    "print('Quantity per order frequency graph')\n",
    "order_quantities = [qty for qty in sales_data['Quantity ordered']]\n",
    "num_bins = 30\n",
    "n, bins, patches = plt.hist(order_quantities, num_bins, facecolor=\"green\", alpha=0.5)\n",
    "plt.show()\n",
    "\n",
    "#pie chart\n",
    "labels = tuple(sales_data['Recipe'].unique())\n",
    "print('Distribution of sales of ', labels)\n",
    "red_helles_count = len(sales_data[sales_data['Recipe'] == 'Organic Red Helles'])\n",
    "pilsner_count = len(sales_data[sales_data['Recipe'] == 'Organic Pilsner'])\n",
    "dunkel_count = len(sales_data[sales_data['Recipe'] == 'Organic Dunkel'])\n",
    "\n",
    "sizes = [red_helles_count, pilsner_count, dunkel_count]\n",
    "colours = ['#e33f22', '#dec92a', '#6e5075']\n",
    "\n",
    "plt.pie(sizes, labels=labels, colors=colours, autopct='%1.1f%%')\n",
    "plt.show()"
   ]
  },
  {
   "cell_type": "markdown",
   "metadata": {},
   "source": [
    "<h1>Save edited data for further analysis</h1>"
   ]
  },
  {
   "cell_type": "code",
   "execution_count": 62,
   "metadata": {
    "collapsed": false,
    "inputHidden": false,
    "outputHidden": false
   },
   "outputs": [],
   "source": [
    "#saving the filtered/modified data\n",
    "\n",
    "filtered_sales_data = sales_data.drop(['Customer', 'Date Required', 'Recipe', 'Quantity ordered'], axis=1)\n",
    "outputfile = filtered_sales_data.to_csv('filtered_sales_data.csv', index=False)"
   ]
  }
 ],
 "metadata": {
  "kernelspec": {
   "display_name": "Python 3.6 - AzureML",
   "language": "python",
   "name": "python3-azureml"
  },
  "language_info": {
   "codemirror_mode": {
    "name": "ipython",
    "version": 3
   },
   "file_extension": ".py",
   "mimetype": "text/x-python",
   "name": "python",
   "nbconvert_exporter": "python",
   "pygments_lexer": "ipython3",
   "version": "3.6.9"
  },
  "nteract": {
   "version": "nteract-front-end@1.0.0"
  }
 },
 "nbformat": 4,
 "nbformat_minor": 2
}
